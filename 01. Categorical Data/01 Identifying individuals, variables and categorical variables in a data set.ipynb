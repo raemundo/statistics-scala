{
 "cells": [
  {
   "cell_type": "markdown",
   "metadata": {},
   "source": [
    "# 01 Identifying individuals, variables and categorical variables in a data set"
   ]
  },
  {
   "cell_type": "code",
   "execution_count": null,
   "metadata": {},
   "outputs": [],
   "source": [
    "import $ivy.`org.apache.spark::spark-sql:3.0.1`\n",
    "import $ivy.`org.apache.spark::spark-mllib:3.0.1`\n",
    "import $ivy.`org.plotly-scala::plotly-almond:0.8.0`"
   ]
  },
  {
   "cell_type": "code",
   "execution_count": 13,
   "metadata": {},
   "outputs": [
    {
     "data": {
      "text/plain": [
       "\u001b[32mimport \u001b[39m\u001b[36mplotly._, plotly.element._, plotly.layout._, plotly.Almond._\n",
       "\u001b[39m\r\n",
       "\u001b[32mimport \u001b[39m\u001b[36morg.apache.spark.sql._\n",
       "\u001b[39m\r\n",
       "\u001b[32mimport \u001b[39m\u001b[36morg.apache.spark.sql.types._\n",
       "\u001b[39m\r\n",
       "\u001b[32mimport \u001b[39m\u001b[36morg.apache.spark.ml.feature.StringIndexer\n",
       "\u001b[39m\r\n",
       "\u001b[32mimport \u001b[39m\u001b[36mscala.collection.mutable.LinkedHashMap\n",
       "\u001b[39m\r\n",
       "\u001b[32mimport \u001b[39m\u001b[36morg.apache.log4j.{Level, Logger}\n",
       "\u001b[39m"
      ]
     },
     "execution_count": 13,
     "metadata": {},
     "output_type": "execute_result"
    }
   ],
   "source": [
    "import plotly._, plotly.element._, plotly.layout._, plotly.Almond._\n",
    "import org.apache.spark.sql._\n",
    "import org.apache.spark.sql.types._\n",
    "import org.apache.spark.ml.feature.StringIndexer\n",
    "import scala.collection.mutable.LinkedHashMap\n",
    "import org.apache.log4j.{Level, Logger}\n",
    "Logger.getLogger(\"org\").setLevel(Level.OFF)\n",
    "repl.pprinter() = repl.pprinter().copy(defaultHeight = 1)"
   ]
  },
  {
   "cell_type": "markdown",
   "metadata": {},
   "source": [
    "[khanacademy](https://www.khanacademy.org/math/ap-statistics/analyzing-categorical-ap/analyzing-one-categorical-variable/v/identifying-individuals-variables-and-categorical-variables-in-a-data-set?modal=1)"
   ]
  },
  {
   "cell_type": "markdown",
   "metadata": {},
   "source": [
    "![Identifying individuals, variables and categorical variables in a data set fig 1](./imgs/01-01-01.png)![Identifying individuals, variables and categorical variables in a data set fig 2](./imgs/01-01-02.png)"
   ]
  },
  {
   "cell_type": "code",
   "execution_count": 5,
   "metadata": {},
   "outputs": [
    {
     "name": "stdout",
     "output_type": "stream",
     "text": [
      "Loading spark-stubs\n",
      "Creating SparkSession\n"
     ]
    },
    {
     "name": "stderr",
     "output_type": "stream",
     "text": [
      "Using Spark's default log4j profile: org/apache/spark/log4j-defaults.properties\n"
     ]
    },
    {
     "data": {
      "text/html": [
       "<a target=\"_blank\" href=\"http://DESKTOP-L4UO114:4040\">Spark UI</a>"
      ]
     },
     "metadata": {},
     "output_type": "display_data"
    },
    {
     "data": {
      "text/plain": [
       "\u001b[36mspark\u001b[39m: \u001b[32mSparkSession\u001b[39m = org.apache.spark.sql.SparkSession@61b11223"
      ]
     },
     "execution_count": 5,
     "metadata": {},
     "output_type": "execute_result"
    }
   ],
   "source": [
    "val spark = {\n",
    "  NotebookSparkSession.builder.appName(\"statistics\").master(\"local\").getOrCreate()\n",
    "}"
   ]
  },
  {
   "cell_type": "code",
   "execution_count": 6,
   "metadata": {},
   "outputs": [
    {
     "data": {
      "text/plain": [
       "\u001b[32mimport \u001b[39m\u001b[36mspark.implicits._\u001b[39m"
      ]
     },
     "execution_count": 6,
     "metadata": {},
     "output_type": "execute_result"
    }
   ],
   "source": [
    "import spark.implicits._"
   ]
  },
  {
   "cell_type": "code",
   "execution_count": 25,
   "metadata": {},
   "outputs": [
    {
     "data": {
      "text/html": [
       "<div class=\"jp-RenderedText\">\n",
       "<pre><code><span style=\"color: rgb(0, 187, 187)\"><span class=\"ansi-cyan-fg\">dataset</span></span>: <span style=\"color: rgb(0, 187, 0)\"><span class=\"ansi-green-fg\">LinkedHashMap</span></span>[<span style=\"color: rgb(0, 187, 0)\"><span class=\"ansi-green-fg\">String</span></span>, <span style=\"color: rgb(0, 187, 0)\"><span class=\"ansi-green-fg\">Seq</span></span>[<span style=\"color: rgb(0, 187, 0)\"><span class=\"ansi-green-fg\">Any</span></span>]] = ...</code></pre>\n",
       "</div>"
      ],
      "text/plain": [
       "\u001b[36mdataset\u001b[39m: \u001b[32mLinkedHashMap\u001b[39m[\u001b[32mString\u001b[39m, \u001b[32mSeq\u001b[39m[\u001b[32mAny\u001b[39m]] = ..."
      ]
     },
     "metadata": {},
     "output_type": "display_data"
    }
   ],
   "source": [
    "var dataset = LinkedHashMap(\n",
    "    \"Drink\" -> Seq(\"Brewed coffee\", \"Caffe latte\", \"Caffe mocha\", \"Cappuccino\", \"Iced brewed coffee\", \"Chai latte\"),\n",
    "    \"Type\" -> Seq(\"Hot\", \"Hot\", \"Hot\", \"Hot\", \"Cold\", \"Hot\"),\n",
    "    \"Calories\" -> Seq(4, 100, 170, 60, 60, 120),\n",
    "    \"Sugars (g)\" -> Seq(0, 14, 27, 8, 15, 25),\n",
    "    \"Caffein (mg)\" -> Seq(260, 75, 95, 75, 120, 60)\n",
    "    )"
   ]
  },
  {
   "cell_type": "code",
   "execution_count": 14,
   "metadata": {},
   "outputs": [
    {
     "name": "stdout",
     "output_type": "stream",
     "text": [
      "+------------------+----+--------+----------+------------+\n",
      "|             Drink|Type|Calories|Sugars (g)|Caffein (mg)|\n",
      "+------------------+----+--------+----------+------------+\n",
      "|     Brewed coffee| Hot|       4|         0|         260|\n",
      "|       Caffe latte| Hot|     100|        14|          75|\n",
      "|       Caffe mocha| Hot|     170|        27|          95|\n",
      "|        Cappuccino| Hot|      60|         8|          75|\n",
      "|Iced brewed coffee|Cold|      60|        15|         120|\n",
      "|        Chai latte| Hot|     120|        25|          60|\n",
      "+------------------+----+--------+----------+------------+\n",
      "\n"
     ]
    },
    {
     "data": {
      "text/plain": [
       "\u001b[36msdf\u001b[39m: \u001b[32mDataFrame\u001b[39m = [Drink: string, Type: string ... 3 more fields]"
      ]
     },
     "execution_count": 14,
     "metadata": {},
     "output_type": "execute_result"
    }
   ],
   "source": [
    "val sdf = dataset.values\n",
    "    .toList\n",
    "    .transpose\n",
    "    .map({ case List(a:String, b:String, c:Int, d:Int, e:Int) => (a, b, c, d, e) })\n",
    "    .toDF(dataset.keys.toList:_*)\n",
    "sdf.show()"
   ]
  },
  {
   "cell_type": "code",
   "execution_count": 16,
   "metadata": {},
   "outputs": [
    {
     "data": {
      "text/html": [
       "<script>\n",
       "var comm = Jupyter.notebook.kernel.comm_manager.new_comm('cancel-stage-42e70122-1543-43b0-9f4a-5662b15425c1', {});\n",
       "\n",
       "function cancelStage(stageId) {\n",
       "  console.log('Cancelling stage ' + stageId);\n",
       "  comm.send({ 'stageId': stageId });\n",
       "}\n",
       "</script>\n",
       "          "
      ]
     },
     "metadata": {},
     "output_type": "display_data"
    },
    {
     "data": {
      "text/html": [
       "<div>\n",
       "  <span style=\"float: left;\">collect at StringIndexer.scala:204</span>\n",
       "</div>\n"
      ]
     },
     "metadata": {},
     "output_type": "display_data"
    },
    {
     "data": {
      "text/html": [
       "<div class=\"progress\">\n",
       "  <div class=\"progress-bar\" role=\"progressbar\" style=\"background-color: blue; width: 100%; word-wrap: normal; white-space: nowrap; text-align: center; color: white\" aria-valuenow=\"100\" aria-valuemin=\"0\" aria-valuemax=\"100\">\n",
       "    1 / 1\n",
       "  </div>\n",
       "  <div class=\"progress-bar\" role=\"progressbar\" style=\"background-color: red; width: 0%\" aria-valuenow=\"0\" aria-valuemin=\"0\" aria-valuemax=\"100\"></div>\n",
       "</div>\n"
      ]
     },
     "metadata": {},
     "output_type": "display_data"
    },
    {
     "data": {
      "text/html": [
       "<div>\n",
       "  <span style=\"float: left;\">collect at StringIndexer.scala:204</span>\n",
       "</div>\n"
      ]
     },
     "metadata": {},
     "output_type": "display_data"
    },
    {
     "data": {
      "text/html": [
       "<div class=\"progress\">\n",
       "  <div class=\"progress-bar\" role=\"progressbar\" style=\"background-color: blue; width: 100%; word-wrap: normal; white-space: nowrap; text-align: center; color: white\" aria-valuenow=\"100\" aria-valuemin=\"0\" aria-valuemax=\"100\">\n",
       "    1 / 1\n",
       "  </div>\n",
       "  <div class=\"progress-bar\" role=\"progressbar\" style=\"background-color: red; width: 0%\" aria-valuenow=\"0\" aria-valuemin=\"0\" aria-valuemax=\"100\"></div>\n",
       "</div>\n"
      ]
     },
     "metadata": {},
     "output_type": "display_data"
    },
    {
     "name": "stdout",
     "output_type": "stream",
     "text": [
      "+------------------+----+--------+----------+------------+----------+\n",
      "|             Drink|Type|Calories|Sugars (g)|Caffein (mg)|Type_index|\n",
      "+------------------+----+--------+----------+------------+----------+\n",
      "|     Brewed coffee| Hot|       4|         0|         260|       0.0|\n",
      "|       Caffe latte| Hot|     100|        14|          75|       0.0|\n",
      "|       Caffe mocha| Hot|     170|        27|          95|       0.0|\n",
      "|        Cappuccino| Hot|      60|         8|          75|       0.0|\n",
      "|Iced brewed coffee|Cold|      60|        15|         120|       1.0|\n",
      "|        Chai latte| Hot|     120|        25|          60|       0.0|\n",
      "+------------------+----+--------+----------+------------+----------+\n",
      "\n"
     ]
    },
    {
     "data": {
      "text/plain": [
       "\u001b[36msdfIndex\u001b[39m: \u001b[32mDataFrame\u001b[39m = [Drink: string, Type: string ... 4 more fields]"
      ]
     },
     "execution_count": 16,
     "metadata": {},
     "output_type": "execute_result"
    }
   ],
   "source": [
    "val sdfIndex = new StringIndexer().setInputCol(\"Type\").setOutputCol(\"Type_Cold\").fit(sdf).transform(sdf)\n",
    "sdfIndex.show()"
   ]
  },
  {
   "cell_type": "code",
   "execution_count": 10,
   "metadata": {},
   "outputs": [
    {
     "data": {
      "application/vnd.plotly.v1+json": {
       "config": {},
       "data": [
        {
         "name": "Calories",
         "type": "bar",
         "x": [
          "Brewed coffee",
          "Caffe latte",
          "Caffe mocha",
          "Cappuccino",
          "Iced brewed coffee",
          "Chai latte"
         ],
         "y": [
          4,
          100,
          170,
          60,
          60,
          120
         ]
        },
        {
         "name": "Sugars (g)",
         "type": "bar",
         "x": [
          "Brewed coffee",
          "Caffe latte",
          "Caffe mocha",
          "Cappuccino",
          "Iced brewed coffee",
          "Chai latte"
         ],
         "y": [
          0,
          14,
          27,
          8,
          15,
          25
         ]
        },
        {
         "name": "Caffein (mg)",
         "type": "bar",
         "x": [
          "Brewed coffee",
          "Caffe latte",
          "Caffe mocha",
          "Cappuccino",
          "Iced brewed coffee",
          "Chai latte"
         ],
         "y": [
          260,
          75,
          95,
          75,
          120,
          60
         ]
        }
       ],
       "layout": {
        "autosize": true,
        "xaxis": {
         "autorange": true,
         "range": [
          -0.5,
          5.5
         ],
         "type": "category"
        },
        "yaxis": {
         "autorange": true,
         "range": [
          0,
          273.6842105263158
         ],
         "type": "linear"
        }
       }
      },
      "image/png": "[encoded data removed]",
      "text/html": [
       "<div class=\"chart\" id=\"plot-480dd3e8-e45a-4940-a7de-8a616872721a\"></div>\n",
       "<script>require(['plotly'], function(Plotly) {\n",
       "  (function () {\n",
       "  var data0 = {\"x\":[\"Brewed coffee\",\"Caffe latte\",\"Caffe mocha\",\"Cappuccino\",\"Iced brewed coffee\",\"Chai latte\"],\"name\":\"Calories\",\"y\":[4.0,100.0,170.0,60.0,60.0,120.0],\"type\":\"bar\"};\n",
       "  var data1 = {\"x\":[\"Brewed coffee\",\"Caffe latte\",\"Caffe mocha\",\"Cappuccino\",\"Iced brewed coffee\",\"Chai latte\"],\"name\":\"Sugars (g)\",\"y\":[0.0,14.0,27.0,8.0,15.0,25.0],\"type\":\"bar\"};\n",
       "  var data2 = {\"x\":[\"Brewed coffee\",\"Caffe latte\",\"Caffe mocha\",\"Cappuccino\",\"Iced brewed coffee\",\"Chai latte\"],\"name\":\"Caffein (mg)\",\"y\":[260.0,75.0,95.0,75.0,120.0,60.0],\"type\":\"bar\"};\n",
       "\n",
       "  var data = [data0, data1, data2];\n",
       "  var layout = {};\n",
       " var config = {};\n",
       "\n",
       "  Plotly.plot('plot-480dd3e8-e45a-4940-a7de-8a616872721a', data, layout, config);\n",
       "})();\n",
       "});\n",
       "      </script>\n",
       "           "
      ]
     },
     "metadata": {},
     "output_type": "display_data"
    },
    {
     "data": {
      "text/plain": [
       "\u001b[36mlabels\u001b[39m: \u001b[32mSeq\u001b[39m[\u001b[32mString\u001b[39m] = ...\r\n",
       "\u001b[36mcalories\u001b[39m: \u001b[32mSeq\u001b[39m[\u001b[32mInt\u001b[39m] = \u001b[33mWrappedArray\u001b[39m(\u001b[32m4\u001b[39m, \u001b[32m100\u001b[39m, \u001b[32m170\u001b[39m, \u001b[32m60\u001b[39m, \u001b[32m60\u001b[39m, \u001b[32m120\u001b[39m)\r\n",
       "\u001b[36msugars\u001b[39m: \u001b[32mSeq\u001b[39m[\u001b[32mInt\u001b[39m] = \u001b[33mWrappedArray\u001b[39m(\u001b[32m0\u001b[39m, \u001b[32m14\u001b[39m, \u001b[32m27\u001b[39m, \u001b[32m8\u001b[39m, \u001b[32m15\u001b[39m, \u001b[32m25\u001b[39m)\r\n",
       "\u001b[36mcaffein\u001b[39m: \u001b[32mSeq\u001b[39m[\u001b[32mInt\u001b[39m] = \u001b[33mWrappedArray\u001b[39m(\u001b[32m260\u001b[39m, \u001b[32m75\u001b[39m, \u001b[32m95\u001b[39m, \u001b[32m75\u001b[39m, \u001b[32m120\u001b[39m, \u001b[32m60\u001b[39m)\r\n",
       "\u001b[36mdata\u001b[39m: \u001b[32mSeq\u001b[39m[\u001b[32mBar\u001b[39m] = ...\r\n",
       "\u001b[36mres9_5\u001b[39m: \u001b[32mString\u001b[39m = \u001b[32m\"plot-480dd3e8-e45a-4940-a7de-8a616872721a\"\u001b[39m"
      ]
     },
     "execution_count": 10,
     "metadata": {},
     "output_type": "execute_result"
    }
   ],
   "source": [
    "val labels = sdf.select(\"Drink\").collect().map(_(0).asInstanceOf[String]).toSeq\n",
    "val calories = sdf.select(\"Calories\").collect().map(_(0).asInstanceOf[Int]).toSeq\n",
    "val sugars = sdf.select(\"Sugars (g)\").collect().map(_(0).asInstanceOf[Int]).toSeq\n",
    "val caffein = sdf.select(\"Caffein (mg)\").collect().map(_(0).asInstanceOf[Int]).toSeq\n",
    "val data = Seq(\n",
    "    Bar(labels, calories, name = \"Calories\"),\n",
    "    Bar(labels, sugars, name = \"Sugars (g)\"),\n",
    "    Bar(labels, caffein, name = \"Caffein (mg)\")\n",
    ")\n",
    "\n",
    "plot(data)"
   ]
  },
  {
   "cell_type": "code",
   "execution_count": null,
   "metadata": {},
   "outputs": [],
   "source": []
  }
 ],
 "metadata": {
  "kernelspec": {
   "display_name": "Scala",
   "language": "scala",
   "name": "scala"
  },
  "language_info": {
   "codemirror_mode": "text/x-scala",
   "file_extension": ".sc",
   "mimetype": "text/x-scala",
   "name": "scala",
   "nbconvert_exporter": "script",
   "version": "2.12.11"
  }
 },
 "nbformat": 4,
 "nbformat_minor": 4
}
