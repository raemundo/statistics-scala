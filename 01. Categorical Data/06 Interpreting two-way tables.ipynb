{
 "cells": [
  {
   "cell_type": "markdown",
   "metadata": {},
   "source": [
    "# 06 Interpreting two-way tables"
   ]
  },
  {
   "cell_type": "code",
   "execution_count": 1,
   "metadata": {},
   "outputs": [
    {
     "data": {
      "text/plain": [
       "\u001b[32mimport \u001b[39m\u001b[36m$ivy.$                                  \n",
       "\u001b[39m\r\n",
       "\u001b[32mimport \u001b[39m\u001b[36m$ivy.$                                    \n",
       "\u001b[39m\r\n",
       "\u001b[32mimport \u001b[39m\u001b[36m$ivy.$                                      \u001b[39m"
      ]
     },
     "execution_count": 1,
     "metadata": {},
     "output_type": "execute_result"
    }
   ],
   "source": [
    "import $ivy.`org.apache.spark::spark-sql:3.0.1`\n",
    "import $ivy.`org.apache.spark::spark-mllib:3.0.1`\n",
    "import $ivy.`org.plotly-scala::plotly-almond:0.8.0`"
   ]
  },
  {
   "cell_type": "code",
   "execution_count": 2,
   "metadata": {},
   "outputs": [
    {
     "data": {
      "text/plain": [
       "\u001b[32mimport \u001b[39m\u001b[36mplotly._, plotly.element._, plotly.layout._, plotly.Almond._\n",
       "\u001b[39m\r\n",
       "\u001b[32mimport \u001b[39m\u001b[36morg.apache.spark.sql._\n",
       "\u001b[39m\r\n",
       "\u001b[32mimport \u001b[39m\u001b[36morg.apache.spark.sql.types._\n",
       "\u001b[39m\r\n",
       "\u001b[32mimport \u001b[39m\u001b[36morg.apache.spark.ml.feature.StringIndexer\n",
       "\u001b[39m\r\n",
       "\u001b[32mimport \u001b[39m\u001b[36mscala.collection.mutable.LinkedHashMap\n",
       "\u001b[39m\r\n",
       "\u001b[32mimport \u001b[39m\u001b[36morg.apache.log4j.{Level, Logger}\n",
       "\u001b[39m"
      ]
     },
     "execution_count": 2,
     "metadata": {},
     "output_type": "execute_result"
    }
   ],
   "source": [
    "import plotly._, plotly.element._, plotly.layout._, plotly.Almond._\n",
    "import org.apache.spark.sql._\n",
    "import org.apache.spark.sql.types._\n",
    "import org.apache.spark.ml.feature.StringIndexer\n",
    "import scala.collection.mutable.LinkedHashMap\n",
    "import org.apache.log4j.{Level, Logger}\n",
    "Logger.getLogger(\"org\").setLevel(Level.OFF)\n",
    "repl.pprinter() = repl.pprinter().copy(defaultHeight = 1)"
   ]
  },
  {
   "cell_type": "markdown",
   "metadata": {},
   "source": [
    "[khanacademy](https://www.khanacademy.org/math/ap-statistics/analyzing-categorical-ap/stats-two-way-tables/v/interpreting-two-way-tables?modal=1)"
   ]
  },
  {
   "cell_type": "markdown",
   "metadata": {},
   "source": [
    "![Interpreting two-way tables fig 1](./imgs/01-06-01.png)"
   ]
  },
  {
   "cell_type": "code",
   "execution_count": 3,
   "metadata": {},
   "outputs": [
    {
     "name": "stdout",
     "output_type": "stream",
     "text": [
      "Loading spark-stubs\n",
      "Creating SparkSession\n"
     ]
    },
    {
     "name": "stderr",
     "output_type": "stream",
     "text": [
      "Using Spark's default log4j profile: org/apache/spark/log4j-defaults.properties\n"
     ]
    },
    {
     "data": {
      "text/html": [
       "<a target=\"_blank\" href=\"http://DESKTOP-L4UO114:4041\">Spark UI</a>"
      ]
     },
     "metadata": {},
     "output_type": "display_data"
    },
    {
     "data": {
      "text/plain": [
       "\u001b[36mspark\u001b[39m: \u001b[32mSparkSession\u001b[39m = org.apache.spark.sql.SparkSession@448d03d9"
      ]
     },
     "execution_count": 3,
     "metadata": {},
     "output_type": "execute_result"
    }
   ],
   "source": [
    "val spark = NotebookSparkSession.builder.appName(\"statistics\").master(\"local\").getOrCreate()"
   ]
  },
  {
   "cell_type": "code",
   "execution_count": 17,
   "metadata": {},
   "outputs": [
    {
     "data": {
      "text/plain": [
       "\u001b[32mimport \u001b[39m\u001b[36mspark.implicits._\u001b[39m"
      ]
     },
     "execution_count": 17,
     "metadata": {},
     "output_type": "execute_result"
    }
   ],
   "source": [
    "import spark.implicits._"
   ]
  },
  {
   "cell_type": "code",
   "execution_count": 4,
   "metadata": {},
   "outputs": [
    {
     "data": {
      "text/plain": [
       "\u001b[36mdataset\u001b[39m: \u001b[32mLinkedHashMap\u001b[39m[\u001b[32mString\u001b[39m, \u001b[32mSeq\u001b[39m[\u001b[32mAny\u001b[39m]] = ..."
      ]
     },
     "execution_count": 4,
     "metadata": {},
     "output_type": "execute_result"
    }
   ],
   "source": [
    "val dataset = LinkedHashMap(\n",
    "    \"Candidate\" -> Seq(\"Obama\", \"Romney\", \"Other\"),\n",
    "    \"Men\" -> Seq(0.42, 0.52, 0.06),\n",
    "    \"Women\" -> Seq(0.52, 0.43, 0.05)\n",
    ")"
   ]
  },
  {
   "cell_type": "code",
   "execution_count": 18,
   "metadata": {},
   "outputs": [
    {
     "name": "stdout",
     "output_type": "stream",
     "text": [
      "+---------+----+-----+\n",
      "|Candidate| Men|Women|\n",
      "+---------+----+-----+\n",
      "|    Obama|0.42| 0.52|\n",
      "|   Romney|0.52| 0.43|\n",
      "|    Other|0.06| 0.05|\n",
      "+---------+----+-----+\n",
      "\n"
     ]
    },
    {
     "data": {
      "text/plain": [
       "\u001b[36msdf\u001b[39m: \u001b[32mDataFrame\u001b[39m = [Candidate: string, Men: double ... 1 more field]"
      ]
     },
     "execution_count": 18,
     "metadata": {},
     "output_type": "execute_result"
    }
   ],
   "source": [
    "val sdf = dataset.values.toList.transpose.map({case List(a: String, b: Double, c: Double) => (a, b, c)}).toDF(dataset.keys.toList:_*)\n",
    "sdf.registerTempTable(\"sdf_table\")\n",
    "sdf.show()"
   ]
  },
  {
   "cell_type": "code",
   "execution_count": 23,
   "metadata": {},
   "outputs": [
    {
     "data": {
      "text/plain": [
       "\u001b[36mres22\u001b[39m: \u001b[32mSeq\u001b[39m[\u001b[32mString\u001b[39m] = \u001b[33mWrappedArray\u001b[39m(\u001b[32m\"Obama\"\u001b[39m, \u001b[32m\"Romney\"\u001b[39m, \u001b[32m\"Other\"\u001b[39m)"
      ]
     },
     "execution_count": 23,
     "metadata": {},
     "output_type": "execute_result"
    }
   ],
   "source": [
    "sdf.select(\"Candidate\").collect().map(_(0).asInstanceOf[String]).toSeq"
   ]
  },
  {
   "cell_type": "code",
   "execution_count": 25,
   "metadata": {},
   "outputs": [
    {
     "data": {
      "application/vnd.plotly.v1+json": {
       "config": {},
       "data": [
        {
         "marker": {
          "color": "rgb(100, 149, 237)"
         },
         "name": "Men",
         "type": "bar",
         "x": [
          "Obama",
          "Romney",
          "Other"
         ],
         "y": [
          0.42,
          0.52,
          0.06
         ]
        },
        {
         "marker": {
          "color": "rgb(255, 165, 0)"
         },
         "name": "Women",
         "type": "bar",
         "x": [
          "Obama",
          "Romney",
          "Other"
         ],
         "y": [
          0.52,
          0.43,
          0.05
         ]
        }
       ],
       "layout": {
        "autosize": true,
        "xaxis": {
         "autorange": true,
         "range": [
          -0.5,
          2.5
         ],
         "title": {
          "text": "Candidate"
         },
         "type": "category"
        },
        "yaxis": {
         "autorange": true,
         "range": [
          0,
          0.5473684210526316
         ],
         "title": {
          "text": "Percentage"
         },
         "type": "linear"
        }
       }
      },
      "image/png": "[encoded data removed]",
      "text/html": [
       "<div class=\"chart\" id=\"plot-2a944248-22cc-4fe2-bbd6-8b0836fdca08\"></div>\n",
       "<script>require(['plotly'], function(Plotly) {\n",
       "  (function () {\n",
       "  var data0 = {\"x\":[\"Obama\",\"Romney\",\"Other\"],\"name\":\"Men\",\"y\":[0.42,0.52,0.06],\"marker\":{\"color\":\"rgb(100, 149, 237)\"},\"type\":\"bar\"};\n",
       "  var data1 = {\"x\":[\"Obama\",\"Romney\",\"Other\"],\"name\":\"Women\",\"y\":[0.52,0.43,0.05],\"marker\":{\"color\":\"rgb(255, 165, 0)\"},\"type\":\"bar\"};\n",
       "\n",
       "  var data = [data0, data1];\n",
       "  var layout = {\"yaxis\":{\"title\":\"Percentage\"},\"xaxis\":{\"title\":\"Candidate\"}};\n",
       " var config = {};\n",
       "\n",
       "  Plotly.plot('plot-2a944248-22cc-4fe2-bbd6-8b0836fdca08', data, layout, config);\n",
       "})();\n",
       "});\n",
       "      </script>\n",
       "           "
      ]
     },
     "metadata": {},
     "output_type": "display_data"
    },
    {
     "data": {
      "text/plain": [
       "\u001b[36mcandidateCol\u001b[39m: \u001b[32mSeq\u001b[39m[\u001b[32mString\u001b[39m] = \u001b[33mWrappedArray\u001b[39m(\u001b[32m\"Obama\"\u001b[39m, \u001b[32m\"Romney\"\u001b[39m, \u001b[32m\"Other\"\u001b[39m)\r\n",
       "\u001b[36mmenCol\u001b[39m: \u001b[32mSeq\u001b[39m[\u001b[32mDouble\u001b[39m] = \u001b[33mWrappedArray\u001b[39m(\u001b[32m0.42\u001b[39m, \u001b[32m0.52\u001b[39m, \u001b[32m0.06\u001b[39m)\r\n",
       "\u001b[36mwomenCol\u001b[39m: \u001b[32mSeq\u001b[39m[\u001b[32mDouble\u001b[39m] = \u001b[33mWrappedArray\u001b[39m(\u001b[32m0.52\u001b[39m, \u001b[32m0.43\u001b[39m, \u001b[32m0.05\u001b[39m)\r\n",
       "\u001b[36mdata\u001b[39m: \u001b[32mSeq\u001b[39m[\u001b[32mBar\u001b[39m] = ...\r\n",
       "\u001b[36mlayout\u001b[39m: \u001b[32mLayout\u001b[39m = ...\r\n",
       "\u001b[36mres24_5\u001b[39m: \u001b[32mString\u001b[39m = \u001b[32m\"plot-2a944248-22cc-4fe2-bbd6-8b0836fdca08\"\u001b[39m"
      ]
     },
     "execution_count": 25,
     "metadata": {},
     "output_type": "execute_result"
    }
   ],
   "source": [
    "val candidateCol = sdf.select(\"Candidate\").collect().map(_(0).asInstanceOf[String]).toSeq\n",
    "val menCol = sdf.select(\"Men\").collect().map(_(0).asInstanceOf[Double]).toSeq\n",
    "val womenCol = sdf.select(\"Women\").collect().map(_(0).asInstanceOf[Double]).toSeq\n",
    "\n",
    "val data = Seq(\n",
    "    Bar(x=candidateCol, y=menCol, marker = Marker(color = Color.RGB(100,149,237)), name=\"Men\"),\n",
    "    Bar(x=candidateCol, y=womenCol, marker = Marker(color = Color.RGB(255,165,0)), name=\"Women\")\n",
    ")\n",
    "\n",
    "val layout = Layout(\n",
    "    xaxis= Axis(title=\"Candidate\"),\n",
    "    yaxis= Axis(title=\"Percentage\")\n",
    ")\n",
    "plot(data, layout)"
   ]
  },
  {
   "cell_type": "code",
   "execution_count": null,
   "metadata": {},
   "outputs": [],
   "source": []
  },
  {
   "cell_type": "code",
   "execution_count": null,
   "metadata": {},
   "outputs": [],
   "source": []
  }
 ],
 "metadata": {
  "kernelspec": {
   "display_name": "Scala",
   "language": "scala",
   "name": "scala"
  },
  "language_info": {
   "codemirror_mode": "text/x-scala",
   "file_extension": ".sc",
   "mimetype": "text/x-scala",
   "name": "scala",
   "nbconvert_exporter": "script",
   "version": "2.12.11"
  }
 },
 "nbformat": 4,
 "nbformat_minor": 4
}
