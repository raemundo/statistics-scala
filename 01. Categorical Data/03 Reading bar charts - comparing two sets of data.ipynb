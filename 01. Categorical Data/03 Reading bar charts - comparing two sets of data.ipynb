{
 "cells": [
  {
   "cell_type": "markdown",
   "metadata": {},
   "source": [
    "# 03 Reading bar charts - comparing two sets of data"
   ]
  },
  {
   "cell_type": "code",
   "execution_count": 1,
   "metadata": {},
   "outputs": [
    {
     "data": {
      "text/plain": [
       "\u001b[32mimport \u001b[39m\u001b[36m$ivy.$                                  \n",
       "\u001b[39m\r\n",
       "\u001b[32mimport \u001b[39m\u001b[36m$ivy.$                                    \n",
       "\u001b[39m\r\n",
       "\u001b[32mimport \u001b[39m\u001b[36m$ivy.$                                      \u001b[39m"
      ]
     },
     "execution_count": 1,
     "metadata": {},
     "output_type": "execute_result"
    }
   ],
   "source": [
    "import $ivy.`org.apache.spark::spark-sql:3.0.1`\n",
    "import $ivy.`org.apache.spark::spark-mllib:3.0.1`\n",
    "import $ivy.`org.plotly-scala::plotly-almond:0.8.0`"
   ]
  },
  {
   "cell_type": "code",
   "execution_count": 3,
   "metadata": {},
   "outputs": [
    {
     "data": {
      "text/plain": [
       "\u001b[32mimport \u001b[39m\u001b[36mplotly._, plotly.element._, plotly.layout._, plotly.Almond._\n",
       "\u001b[39m\r\n",
       "\u001b[32mimport \u001b[39m\u001b[36morg.apache.spark.sql._\n",
       "\u001b[39m\r\n",
       "\u001b[32mimport \u001b[39m\u001b[36morg.apache.spark.sql.types._\n",
       "\u001b[39m\r\n",
       "\u001b[32mimport \u001b[39m\u001b[36morg.apache.spark.ml.feature.StringIndexer\n",
       "\u001b[39m\r\n",
       "\u001b[32mimport \u001b[39m\u001b[36mscala.collection.mutable.LinkedHashMap\n",
       "\u001b[39m\r\n",
       "\u001b[32mimport \u001b[39m\u001b[36morg.apache.log4j.{Level, Logger}\n",
       "\u001b[39m"
      ]
     },
     "execution_count": 3,
     "metadata": {},
     "output_type": "execute_result"
    }
   ],
   "source": [
    "import plotly._, plotly.element._, plotly.layout._, plotly.Almond._\n",
    "import org.apache.spark.sql._\n",
    "import org.apache.spark.sql.types._\n",
    "import org.apache.spark.ml.feature.StringIndexer\n",
    "import scala.collection.mutable.LinkedHashMap\n",
    "import org.apache.log4j.{Level, Logger}\n",
    "Logger.getLogger(\"org\").setLevel(Level.OFF)\n",
    "repl.pprinter() = repl.pprinter().copy(defaultHeight = 1)"
   ]
  },
  {
   "cell_type": "markdown",
   "metadata": {},
   "source": [
    "[khanacademy](https://www.khanacademy.org/math/ap-statistics/analyzing-categorical-ap/analyzing-one-categorical-variable/v/reading-bar-charts-2?modal=1)\n"
   ]
  },
  {
   "cell_type": "markdown",
   "metadata": {},
   "source": [
    "![Reading bar charts - comparing two sets of data fig 1](./imgs/01-03-01.png)![Reading bar charts - comparing two sets of data fig 2](./imgs/01-03-02.png)![Reading bar charts - comparing two sets of data fig 3](./imgs/01-03-03.png)"
   ]
  },
  {
   "cell_type": "code",
   "execution_count": 13,
   "metadata": {},
   "outputs": [
    {
     "name": "stdout",
     "output_type": "stream",
     "text": [
      "Loading spark-stubs\n",
      "Creating SparkSession\n"
     ]
    },
    {
     "name": "stderr",
     "output_type": "stream",
     "text": [
      "Using Spark's default log4j profile: org/apache/spark/log4j-defaults.properties\n"
     ]
    },
    {
     "data": {
      "text/html": [
       "<a target=\"_blank\" href=\"http://DESKTOP-L4UO114:4040\">Spark UI</a>"
      ]
     },
     "metadata": {},
     "output_type": "display_data"
    },
    {
     "data": {
      "text/plain": [
       "\u001b[36mspark\u001b[39m: \u001b[32mSparkSession\u001b[39m = org.apache.spark.sql.SparkSession@6aedc077"
      ]
     },
     "execution_count": 13,
     "metadata": {},
     "output_type": "execute_result"
    }
   ],
   "source": [
    "val spark = {\n",
    "  NotebookSparkSession.builder.appName(\"statistics\").master(\"local\").getOrCreate()\n",
    "}"
   ]
  },
  {
   "cell_type": "code",
   "execution_count": 14,
   "metadata": {},
   "outputs": [
    {
     "data": {
      "text/plain": [
       "\u001b[32mimport \u001b[39m\u001b[36mspark.implicits._\u001b[39m"
      ]
     },
     "execution_count": 14,
     "metadata": {},
     "output_type": "execute_result"
    }
   ],
   "source": [
    "import spark.implicits._"
   ]
  },
  {
   "cell_type": "code",
   "execution_count": 15,
   "metadata": {},
   "outputs": [
    {
     "data": {
      "text/plain": [
       "\u001b[36mdataset\u001b[39m: \u001b[32mLinkedHashMap\u001b[39m[\u001b[32mString\u001b[39m, \u001b[32mSeq\u001b[39m[\u001b[32mAny\u001b[39m]] = ..."
      ]
     },
     "execution_count": 15,
     "metadata": {},
     "output_type": "execute_result"
    }
   ],
   "source": [
    "val dataset = LinkedHashMap(\n",
    "    \"Student\" -> Seq(\"Brandon\", \"Vanessa\", \"Daniel\", \"Kevin\", \"Wiliam\"),\n",
    "    \"Midterm\" -> Seq(85,60,60,65,100),\n",
    "    \"Final\" -> Seq(90,90,65,80,95)\n",
    ")"
   ]
  },
  {
   "cell_type": "code",
   "execution_count": 16,
   "metadata": {},
   "outputs": [
    {
     "name": "stdout",
     "output_type": "stream",
     "text": [
      "+-------+-------+-----+\n",
      "|Student|Midterm|Final|\n",
      "+-------+-------+-----+\n",
      "|Brandon|     85|   90|\n",
      "|Vanessa|     60|   90|\n",
      "| Daniel|     60|   65|\n",
      "|  Kevin|     65|   80|\n",
      "| Wiliam|    100|   95|\n",
      "+-------+-------+-----+\n",
      "\n"
     ]
    },
    {
     "data": {
      "text/plain": [
       "\u001b[36msdf\u001b[39m: \u001b[32mDataFrame\u001b[39m = [Student: string, Midterm: int ... 1 more field]"
      ]
     },
     "execution_count": 16,
     "metadata": {},
     "output_type": "execute_result"
    }
   ],
   "source": [
    "val sdf = dataset.values.transpose.toList.map({case List(i: String, j: Int, k: Int) => (i, j, k)}).toDF(dataset.keys.toList:_*)\n",
    "sdf.show()"
   ]
  },
  {
   "cell_type": "code",
   "execution_count": 8,
   "metadata": {},
   "outputs": [
    {
     "data": {
      "text/html": [
       "<div>\n",
       "<style scoped>\n",
       "    .dataframe tbody tr th:only-of-type {\n",
       "        vertical-align: middle;\n",
       "    }\n",
       "\n",
       "    .dataframe tbody tr th {\n",
       "        vertical-align: top;\n",
       "    }\n",
       "\n",
       "    .dataframe thead th {\n",
       "        text-align: right;\n",
       "    }\n",
       "</style>\n",
       "<table border=\"1\" class=\"dataframe\">\n",
       "  <thead>\n",
       "    <tr style=\"text-align: right;\">\n",
       "      <th></th>\n",
       "      <th>Student</th>\n",
       "      <th>Exam</th>\n",
       "      <th>Score</th>\n",
       "    </tr>\n",
       "  </thead>\n",
       "  <tbody>\n",
       "    <tr>\n",
       "      <th>0</th>\n",
       "      <td>Brandon</td>\n",
       "      <td>Midterm</td>\n",
       "      <td>85</td>\n",
       "    </tr>\n",
       "    <tr>\n",
       "      <th>1</th>\n",
       "      <td>Vanessa</td>\n",
       "      <td>Midterm</td>\n",
       "      <td>60</td>\n",
       "    </tr>\n",
       "    <tr>\n",
       "      <th>2</th>\n",
       "      <td>Daniel</td>\n",
       "      <td>Midterm</td>\n",
       "      <td>60</td>\n",
       "    </tr>\n",
       "    <tr>\n",
       "      <th>3</th>\n",
       "      <td>Kevin</td>\n",
       "      <td>Midterm</td>\n",
       "      <td>65</td>\n",
       "    </tr>\n",
       "    <tr>\n",
       "      <th>4</th>\n",
       "      <td>Wiliam</td>\n",
       "      <td>Midterm</td>\n",
       "      <td>100</td>\n",
       "    </tr>\n",
       "    <tr>\n",
       "      <th>5</th>\n",
       "      <td>Brandon</td>\n",
       "      <td>Final</td>\n",
       "      <td>90</td>\n",
       "    </tr>\n",
       "    <tr>\n",
       "      <th>6</th>\n",
       "      <td>Vanessa</td>\n",
       "      <td>Final</td>\n",
       "      <td>90</td>\n",
       "    </tr>\n",
       "    <tr>\n",
       "      <th>7</th>\n",
       "      <td>Daniel</td>\n",
       "      <td>Final</td>\n",
       "      <td>65</td>\n",
       "    </tr>\n",
       "    <tr>\n",
       "      <th>8</th>\n",
       "      <td>Kevin</td>\n",
       "      <td>Final</td>\n",
       "      <td>80</td>\n",
       "    </tr>\n",
       "    <tr>\n",
       "      <th>9</th>\n",
       "      <td>Wiliam</td>\n",
       "      <td>Final</td>\n",
       "      <td>95</td>\n",
       "    </tr>\n",
       "  </tbody>\n",
       "</table>\n",
       "</div>"
      ],
      "text/plain": [
       "   Student     Exam  Score\n",
       "0  Brandon  Midterm     85\n",
       "1  Vanessa  Midterm     60\n",
       "2   Daniel  Midterm     60\n",
       "3    Kevin  Midterm     65\n",
       "4   Wiliam  Midterm    100\n",
       "5  Brandon    Final     90\n",
       "6  Vanessa    Final     90\n",
       "7   Daniel    Final     65\n",
       "8    Kevin    Final     80\n",
       "9   Wiliam    Final     95"
      ]
     },
     "execution_count": 8,
     "metadata": {},
     "output_type": "execute_result"
    }
   ],
   "source": [
    "melt_df = df.reset_index().melt(id_vars=\"Student\", var_name=\"Exam\", value_name=\"Score\")\n",
    "melt_df"
   ]
  },
  {
   "cell_type": "code",
   "execution_count": 33,
   "metadata": {},
   "outputs": [
    {
     "data": {
      "application/vnd.plotly.v1+json": {
       "config": {},
       "data": [
        {
         "marker": {
          "color": "rgb(100, 149, 237)"
         },
         "name": "Midterm",
         "type": "bar",
         "x": [
          "Brandon",
          "Vanessa",
          "Daniel",
          "Kevin",
          "Wiliam"
         ],
         "y": [
          85,
          60,
          60,
          65,
          100
         ]
        },
        {
         "marker": {
          "color": "rgb(255, 165, 0)"
         },
         "name": "Final",
         "type": "bar",
         "x": [
          "Brandon",
          "Vanessa",
          "Daniel",
          "Kevin",
          "Wiliam"
         ],
         "y": [
          90,
          90,
          65,
          80,
          95
         ]
        }
       ],
       "layout": {
        "autosize": true,
        "title": {
         "text": "Scores on Midterm and Final Exams"
        },
        "xaxis": {
         "autorange": true,
         "range": [
          -0.5,
          4.5
         ],
         "title": {
          "text": "Student"
         },
         "type": "category"
        },
        "yaxis": {
         "autorange": true,
         "range": [
          0,
          105.26315789473684
         ],
         "title": {
          "text": "Scores(points)"
         },
         "type": "linear"
        }
       }
      },
      "image/png": "[encoded data removed]",
      "text/html": [
       "<div class=\"chart\" id=\"plot-cd4c1233-15f3-498a-bf46-b82bd7444797\"></div>\n",
       "<script>require(['plotly'], function(Plotly) {\n",
       "  (function () {\n",
       "  var data0 = {\"x\":[\"Brandon\",\"Vanessa\",\"Daniel\",\"Kevin\",\"Wiliam\"],\"name\":\"Midterm\",\"y\":[85.0,60.0,60.0,65.0,100.0],\"marker\":{\"color\":\"rgb(100, 149, 237)\"},\"type\":\"bar\"};\n",
       "  var data1 = {\"x\":[\"Brandon\",\"Vanessa\",\"Daniel\",\"Kevin\",\"Wiliam\"],\"name\":\"Final\",\"y\":[90.0,90.0,65.0,80.0,95.0],\"marker\":{\"color\":\"rgb(255, 165, 0)\"},\"type\":\"bar\"};\n",
       "\n",
       "  var data = [data0, data1];\n",
       "  var layout = {\"title\":\"Scores on Midterm and Final Exams\",\"yaxis\":{\"title\":\"Scores(points)\"},\"xaxis\":{\"title\":\"Student\"}};\n",
       " var config = {};\n",
       "\n",
       "  Plotly.plot('plot-cd4c1233-15f3-498a-bf46-b82bd7444797', data, layout, config);\n",
       "})();\n",
       "});\n",
       "      </script>\n",
       "           "
      ]
     },
     "metadata": {},
     "output_type": "display_data"
    },
    {
     "data": {
      "text/plain": [
       "\u001b[36mstudentCol\u001b[39m: \u001b[32mSeq\u001b[39m[\u001b[32mString\u001b[39m] = ...\r\n",
       "\u001b[36mmidtermCol\u001b[39m: \u001b[32mSeq\u001b[39m[\u001b[32mInt\u001b[39m] = \u001b[33mWrappedArray\u001b[39m(\u001b[32m85\u001b[39m, \u001b[32m60\u001b[39m, \u001b[32m60\u001b[39m, \u001b[32m65\u001b[39m, \u001b[32m100\u001b[39m)\r\n",
       "\u001b[36mfinalCol\u001b[39m: \u001b[32mSeq\u001b[39m[\u001b[32mInt\u001b[39m] = \u001b[33mWrappedArray\u001b[39m(\u001b[32m90\u001b[39m, \u001b[32m90\u001b[39m, \u001b[32m65\u001b[39m, \u001b[32m80\u001b[39m, \u001b[32m95\u001b[39m)\r\n",
       "\u001b[36mdata\u001b[39m: \u001b[32mSeq\u001b[39m[\u001b[32mBar\u001b[39m] = ...\r\n",
       "\u001b[36mlayout\u001b[39m: \u001b[32mLayout\u001b[39m = ...\r\n",
       "\u001b[36mres32_5\u001b[39m: \u001b[32mString\u001b[39m = \u001b[32m\"plot-cd4c1233-15f3-498a-bf46-b82bd7444797\"\u001b[39m"
      ]
     },
     "execution_count": 33,
     "metadata": {},
     "output_type": "execute_result"
    }
   ],
   "source": [
    "val studentCol = sdf.select(\"Student\").collect().map(_(0).asInstanceOf[String]).toSeq\n",
    "val midtermCol = sdf.select(\"Midterm\").collect().map(_(0).asInstanceOf[Int]).toSeq\n",
    "val finalCol = sdf.select(\"Final\").collect().map(_(0).asInstanceOf[Int]).toSeq\n",
    "\n",
    "val data = Seq(\n",
    "    Bar(x=studentCol,\n",
    "        y=midtermCol,\n",
    "        name=\"Midterm\",\n",
    "        marker = Marker(color = Color.RGB(100,149,237))\n",
    "       ),\n",
    "    Bar(x=studentCol,\n",
    "        y=finalCol,\n",
    "        name=\"Final\",\n",
    "        marker = Marker(color = Color.RGB(255,165,0))\n",
    "       )\n",
    ")\n",
    "\n",
    "val layout = Layout(\n",
    "    title=\"Scores on Midterm and Final Exams\",\n",
    "    xaxis= Axis(title=\"Student\"),\n",
    "    yaxis= Axis(title=\"Scores(points)\")\n",
    ")\n",
    "\n",
    "plot(data, layout)"
   ]
  },
  {
   "cell_type": "code",
   "execution_count": null,
   "metadata": {},
   "outputs": [],
   "source": []
  }
 ],
 "metadata": {
  "kernelspec": {
   "display_name": "Scala",
   "language": "scala",
   "name": "scala"
  },
  "language_info": {
   "codemirror_mode": "text/x-scala",
   "file_extension": ".sc",
   "mimetype": "text/x-scala",
   "name": "scala",
   "nbconvert_exporter": "script",
   "version": "2.12.11"
  }
 },
 "nbformat": 4,
 "nbformat_minor": 4
}
